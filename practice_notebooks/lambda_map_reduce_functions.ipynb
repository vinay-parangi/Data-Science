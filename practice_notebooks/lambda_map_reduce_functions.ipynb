{
 "cells": [
  {
   "cell_type": "code",
   "execution_count": 1,
   "id": "24d34d54",
   "metadata": {},
   "outputs": [],
   "source": [
    "n = 2\n",
    "p = 3\n"
   ]
  },
  {
   "cell_type": "code",
   "execution_count": 3,
   "id": "48fce2c6",
   "metadata": {},
   "outputs": [],
   "source": [
    "fn = lambda n,p: n**p"
   ]
  },
  {
   "cell_type": "code",
   "execution_count": 4,
   "id": "eaa293f3",
   "metadata": {},
   "outputs": [
    {
     "data": {
      "text/plain": [
       "8"
      ]
     },
     "execution_count": 4,
     "metadata": {},
     "output_type": "execute_result"
    }
   ],
   "source": [
    "fn(2,3)"
   ]
  },
  {
   "cell_type": "code",
   "execution_count": 5,
   "id": "fbd1288b",
   "metadata": {},
   "outputs": [],
   "source": [
    "add  = lambda a,b: a+b "
   ]
  },
  {
   "cell_type": "code",
   "execution_count": 6,
   "id": "2244c9fd",
   "metadata": {},
   "outputs": [
    {
     "data": {
      "text/plain": [
       "6"
      ]
     },
     "execution_count": 6,
     "metadata": {},
     "output_type": "execute_result"
    }
   ],
   "source": [
    "add(2,4)"
   ]
  },
  {
   "cell_type": "code",
   "execution_count": 7,
   "id": "ef4a789d",
   "metadata": {},
   "outputs": [],
   "source": [
    "c_to_f = lambda c: (9/5)* c +32"
   ]
  },
  {
   "cell_type": "code",
   "execution_count": 8,
   "id": "f7442e84",
   "metadata": {},
   "outputs": [
    {
     "data": {
      "text/plain": [
       "93.2"
      ]
     },
     "execution_count": 8,
     "metadata": {},
     "output_type": "execute_result"
    }
   ],
   "source": [
    "c_to_f(34)"
   ]
  },
  {
   "cell_type": "code",
   "execution_count": 9,
   "id": "79b3fb34",
   "metadata": {},
   "outputs": [],
   "source": [
    "max_two = lambda a,b: a if a>b else b"
   ]
  },
  {
   "cell_type": "code",
   "execution_count": 10,
   "id": "9a6a0d62",
   "metadata": {},
   "outputs": [
    {
     "data": {
      "text/plain": [
       "4"
      ]
     },
     "execution_count": 10,
     "metadata": {},
     "output_type": "execute_result"
    }
   ],
   "source": [
    "max_two(2,4)"
   ]
  },
  {
   "cell_type": "code",
   "execution_count": 11,
   "id": "e0f07f32",
   "metadata": {},
   "outputs": [
    {
     "data": {
      "text/plain": [
       "5"
      ]
     },
     "execution_count": 11,
     "metadata": {},
     "output_type": "execute_result"
    }
   ],
   "source": [
    "max_two(5,4)"
   ]
  },
  {
   "cell_type": "markdown",
   "id": "97328376",
   "metadata": {},
   "source": [
    "Map reduce"
   ]
  },
  {
   "cell_type": "code",
   "execution_count": 17,
   "id": "a35f2a24",
   "metadata": {},
   "outputs": [],
   "source": [
    "ls = [1,2,4,5,6,9]\n",
    "def cube_fn(a):\n",
    "    return a**3"
   ]
  },
  {
   "cell_type": "code",
   "execution_count": 18,
   "id": "429a9bb4",
   "metadata": {},
   "outputs": [
    {
     "data": {
      "text/plain": [
       "125"
      ]
     },
     "execution_count": 18,
     "metadata": {},
     "output_type": "execute_result"
    }
   ],
   "source": [
    "cube_fn(5)"
   ]
  },
  {
   "cell_type": "code",
   "execution_count": 31,
   "id": "c9b5b611",
   "metadata": {},
   "outputs": [
    {
     "data": {
      "text/plain": [
       "[1, 8, 64, 125, 216, 729]"
      ]
     },
     "execution_count": 31,
     "metadata": {},
     "output_type": "execute_result"
    }
   ],
   "source": [
    "list(map(cube_fn, ls))"
   ]
  },
  {
   "cell_type": "code",
   "execution_count": 28,
   "id": "f0a307be",
   "metadata": {},
   "outputs": [
    {
     "data": {
      "text/plain": [
       "[1, 8, 64, 125, 216, 729]"
      ]
     },
     "execution_count": 28,
     "metadata": {},
     "output_type": "execute_result"
    }
   ],
   "source": [
    "list(map(lambda x: x**3, ls))"
   ]
  },
  {
   "cell_type": "code",
   "execution_count": 32,
   "id": "f43ddd3f",
   "metadata": {},
   "outputs": [
    {
     "data": {
      "text/plain": [
       "[1, 4, 16, 25, 36, 81]"
      ]
     },
     "execution_count": 32,
     "metadata": {},
     "output_type": "execute_result"
    }
   ],
   "source": [
    "list(map(lambda x: x**2, ls))"
   ]
  },
  {
   "cell_type": "code",
   "execution_count": 33,
   "id": "2da9f088",
   "metadata": {},
   "outputs": [],
   "source": [
    "l1 = [1,2,3,4,5]\n",
    "l2 = [5,6,7,8,9,10]"
   ]
  },
  {
   "cell_type": "code",
   "execution_count": 38,
   "id": "ba2e7847",
   "metadata": {},
   "outputs": [
    {
     "data": {
      "text/plain": [
       "[6, 8, 10, 12, 14]"
      ]
     },
     "execution_count": 38,
     "metadata": {},
     "output_type": "execute_result"
    }
   ],
   "source": [
    "list(map(lambda a, b: a+b, l1,l2))"
   ]
  },
  {
   "cell_type": "code",
   "execution_count": 39,
   "id": "b1b25d40",
   "metadata": {},
   "outputs": [],
   "source": [
    "s = 'vinayvp'"
   ]
  },
  {
   "cell_type": "code",
   "execution_count": 44,
   "id": "a9df09e9",
   "metadata": {},
   "outputs": [
    {
     "data": {
      "text/plain": [
       "['V', 'I', 'N', 'A', 'Y', 'V', 'P']"
      ]
     },
     "execution_count": 44,
     "metadata": {},
     "output_type": "execute_result"
    }
   ],
   "source": [
    "list(map(lambda a: a.upper(), s))"
   ]
  },
  {
   "cell_type": "markdown",
   "id": "9ded80b6",
   "metadata": {},
   "source": [
    "Reduce"
   ]
  },
  {
   "cell_type": "code",
   "execution_count": 45,
   "id": "bf0e821e",
   "metadata": {},
   "outputs": [],
   "source": [
    "from functools import reduce"
   ]
  },
  {
   "cell_type": "code",
   "execution_count": 46,
   "id": "27b76ccd",
   "metadata": {},
   "outputs": [],
   "source": [
    "rd = [1,2,3,4,5]"
   ]
  },
  {
   "cell_type": "code",
   "execution_count": 47,
   "id": "5e37ecd6",
   "metadata": {},
   "outputs": [
    {
     "data": {
      "text/plain": [
       "15"
      ]
     },
     "execution_count": 47,
     "metadata": {},
     "output_type": "execute_result"
    }
   ],
   "source": [
    "reduce(lambda x,y: x+y, rd)"
   ]
  },
  {
   "cell_type": "code",
   "execution_count": 49,
   "id": "080ae0cc",
   "metadata": {},
   "outputs": [
    {
     "data": {
      "text/plain": [
       "120"
      ]
     },
     "execution_count": 49,
     "metadata": {},
     "output_type": "execute_result"
    }
   ],
   "source": [
    "reduce(lambda x,y: x*y, rd)"
   ]
  },
  {
   "cell_type": "code",
   "execution_count": 52,
   "id": "7dce029f",
   "metadata": {},
   "outputs": [
    {
     "data": {
      "text/plain": [
       "5"
      ]
     },
     "execution_count": 52,
     "metadata": {},
     "output_type": "execute_result"
    }
   ],
   "source": [
    "reduce(lambda c,d: c if c>d else d, rd)"
   ]
  },
  {
   "cell_type": "markdown",
   "id": "0e68de18",
   "metadata": {},
   "source": [
    "reduce"
   ]
  },
  {
   "cell_type": "code",
   "execution_count": 55,
   "id": "7b42b506",
   "metadata": {},
   "outputs": [
    {
     "data": {
      "text/plain": [
       "[2, 4]"
      ]
     },
     "execution_count": 55,
     "metadata": {},
     "output_type": "execute_result"
    }
   ],
   "source": [
    "list(filter(lambda x: x%2==0, rd)) # returns only even using filter"
   ]
  },
  {
   "cell_type": "code",
   "execution_count": 57,
   "id": "b9e48b6e",
   "metadata": {},
   "outputs": [
    {
     "data": {
      "text/plain": [
       "[-1, -4]"
      ]
     },
     "execution_count": 57,
     "metadata": {},
     "output_type": "execute_result"
    }
   ],
   "source": [
    "l4 = [-1,3,5,6,-4]\n",
    "list(filter(lambda d: d<0, l4))"
   ]
  },
  {
   "cell_type": "code",
   "execution_count": 58,
   "id": "21b4b64a",
   "metadata": {},
   "outputs": [
    {
     "data": {
      "text/plain": [
       "['vinay', 'pavan']"
      ]
     },
     "execution_count": 58,
     "metadata": {},
     "output_type": "execute_result"
    }
   ],
   "source": [
    "l5 = ['vinay', 'pavan', 'parangi', 'bengalore']\n",
    "list(filter(lambda c: len(c)<6, l5))"
   ]
  },
  {
   "cell_type": "code",
   "execution_count": null,
   "id": "db810aa9",
   "metadata": {},
   "outputs": [],
   "source": []
  }
 ],
 "metadata": {
  "kernelspec": {
   "display_name": "Python 3",
   "language": "python",
   "name": "python3"
  },
  "language_info": {
   "codemirror_mode": {
    "name": "ipython",
    "version": 3
   },
   "file_extension": ".py",
   "mimetype": "text/x-python",
   "name": "python",
   "nbconvert_exporter": "python",
   "pygments_lexer": "ipython3",
   "version": "3.8.8"
  }
 },
 "nbformat": 4,
 "nbformat_minor": 5
}
