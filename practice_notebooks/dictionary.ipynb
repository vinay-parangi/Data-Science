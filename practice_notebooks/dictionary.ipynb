{
 "cells": [
  {
   "cell_type": "code",
   "execution_count": 2,
   "id": "dcb9cd2c",
   "metadata": {},
   "outputs": [],
   "source": [
    "my_dict = {1,2,3}"
   ]
  },
  {
   "cell_type": "code",
   "execution_count": 8,
   "id": "df40c58d",
   "metadata": {},
   "outputs": [
    {
     "data": {
      "text/plain": [
       "{'a': (1, 2, 3), 'b': {1, 3, 4}}"
      ]
     },
     "execution_count": 8,
     "metadata": {},
     "output_type": "execute_result"
    }
   ],
   "source": [
    "my_dict"
   ]
  },
  {
   "cell_type": "markdown",
   "id": "ca5aceb9",
   "metadata": {},
   "source": [
    "##h2 values can be of unhashble type"
   ]
  },
  {
   "cell_type": "code",
   "execution_count": 9,
   "id": "87b0ba00",
   "metadata": {},
   "outputs": [],
   "source": [
    "my_dict = {'a': (1,2,3), 'b': {1,3,4}, 'c': {'a': 'b'}}"
   ]
  },
  {
   "cell_type": "markdown",
   "id": "3bc879ac",
   "metadata": {},
   "source": [
    "keys cannot be of unhasble type"
   ]
  },
  {
   "cell_type": "code",
   "execution_count": 10,
   "id": "bd07a4b0",
   "metadata": {},
   "outputs": [
    {
     "data": {
      "text/plain": [
       "{'a': (1, 2, 3), 'b': {1, 3, 4}, 'c': {'a': 'b'}}"
      ]
     },
     "execution_count": 10,
     "metadata": {},
     "output_type": "execute_result"
    }
   ],
   "source": [
    "my_dict = {'a': (1,2,3), 'b': {1,3,4}, 'c': {'a': 'b'}}"
   ]
  },
  {
   "cell_type": "code",
   "execution_count": 12,
   "id": "02241fd3",
   "metadata": {},
   "outputs": [
    {
     "ename": "TypeError",
     "evalue": "unhashable type: 'set'",
     "output_type": "error",
     "traceback": [
      "\u001b[0;31m---------------------------------------------------------------------------\u001b[0m",
      "\u001b[0;31mTypeError\u001b[0m                                 Traceback (most recent call last)",
      "\u001b[0;32m/tmp/ipykernel_274288/2212518255.py\u001b[0m in \u001b[0;36m<module>\u001b[0;34m\u001b[0m\n\u001b[0;32m----> 1\u001b[0;31m \u001b[0ma\u001b[0m \u001b[0;34m=\u001b[0m \u001b[0;34m{\u001b[0m\u001b[0;34m{\u001b[0m\u001b[0;36m1\u001b[0m\u001b[0;34m,\u001b[0m\u001b[0;36m2\u001b[0m\u001b[0;34m,\u001b[0m\u001b[0;36m4\u001b[0m\u001b[0;34m}\u001b[0m\u001b[0;34m:\u001b[0m \u001b[0;36m4\u001b[0m\u001b[0;34m}\u001b[0m\u001b[0;34m\u001b[0m\u001b[0;34m\u001b[0m\u001b[0m\n\u001b[0m",
      "\u001b[0;31mTypeError\u001b[0m: unhashable type: 'set'"
     ]
    }
   ],
   "source": [
    "a = {{1,2,4}: 4}"
   ]
  },
  {
   "cell_type": "code",
   "execution_count": 15,
   "id": "9e3c8a1b",
   "metadata": {},
   "outputs": [],
   "source": [
    "sy  = {1:2, 3:5}"
   ]
  },
  {
   "cell_type": "code",
   "execution_count": 19,
   "id": "1d361564",
   "metadata": {},
   "outputs": [],
   "source": [
    "del sy"
   ]
  },
  {
   "cell_type": "code",
   "execution_count": 20,
   "id": "cf934e6c",
   "metadata": {},
   "outputs": [
    {
     "ename": "NameError",
     "evalue": "name 'sy' is not defined",
     "output_type": "error",
     "traceback": [
      "\u001b[0;31m---------------------------------------------------------------------------\u001b[0m",
      "\u001b[0;31mNameError\u001b[0m                                 Traceback (most recent call last)",
      "\u001b[0;32m/tmp/ipykernel_274288/2557180737.py\u001b[0m in \u001b[0;36m<module>\u001b[0;34m\u001b[0m\n\u001b[0;32m----> 1\u001b[0;31m \u001b[0msy\u001b[0m\u001b[0;34m\u001b[0m\u001b[0;34m\u001b[0m\u001b[0m\n\u001b[0m",
      "\u001b[0;31mNameError\u001b[0m: name 'sy' is not defined"
     ]
    }
   ],
   "source": [
    "sy"
   ]
  },
  {
   "cell_type": "code",
   "execution_count": 21,
   "id": "7f4f9577",
   "metadata": {},
   "outputs": [
    {
     "data": {
      "text/plain": [
       "{'a': (1, 2, 3), 'b': {1, 3, 4}, 'c': {'a': 'b'}}"
      ]
     },
     "execution_count": 21,
     "metadata": {},
     "output_type": "execute_result"
    }
   ],
   "source": [
    "my_dict"
   ]
  },
  {
   "cell_type": "code",
   "execution_count": 22,
   "id": "def6c106",
   "metadata": {},
   "outputs": [
    {
     "data": {
      "text/plain": [
       "dict_keys(['a', 'b', 'c'])"
      ]
     },
     "execution_count": 22,
     "metadata": {},
     "output_type": "execute_result"
    }
   ],
   "source": [
    "my_dict.keys()"
   ]
  },
  {
   "cell_type": "code",
   "execution_count": 23,
   "id": "6874b295",
   "metadata": {},
   "outputs": [
    {
     "data": {
      "text/plain": [
       "dict_values([(1, 2, 3), {1, 3, 4}, {'a': 'b'}])"
      ]
     },
     "execution_count": 23,
     "metadata": {},
     "output_type": "execute_result"
    }
   ],
   "source": [
    "my_dict.values()"
   ]
  },
  {
   "cell_type": "code",
   "execution_count": 25,
   "id": "05ee9221",
   "metadata": {},
   "outputs": [
    {
     "name": "stdout",
     "output_type": "stream",
     "text": [
      "['a', 'b', 'c'] [(1, 2, 3), {1, 3, 4}, {'a': 'b'}]\n"
     ]
    }
   ],
   "source": [
    "print(list(my_dict.keys()), list(my_dict.values()))"
   ]
  },
  {
   "cell_type": "code",
   "execution_count": 29,
   "id": "2c83e5e7",
   "metadata": {},
   "outputs": [
    {
     "data": {
      "text/plain": [
       "dict_items([('a', (1, 2, 3)), ('b', {1, 3, 4}), ('c', {'a': 'b'})])"
      ]
     },
     "execution_count": 29,
     "metadata": {},
     "output_type": "execute_result"
    }
   ],
   "source": [
    "my_dict.items()# return list of tuples"
   ]
  },
  {
   "cell_type": "code",
   "execution_count": 38,
   "id": "0537341f",
   "metadata": {},
   "outputs": [
    {
     "data": {
      "text/plain": [
       "{'a': (1, 2, 3), 'b': {1, 3, 4}, 'c': {'a': 'b'}}"
      ]
     },
     "execution_count": 38,
     "metadata": {},
     "output_type": "execute_result"
    }
   ],
   "source": [
    "my_dict"
   ]
  },
  {
   "cell_type": "code",
   "execution_count": 39,
   "id": "c75e3955",
   "metadata": {},
   "outputs": [],
   "source": [
    "test = my_dict\n",
    "test[3] = '3'"
   ]
  },
  {
   "cell_type": "code",
   "execution_count": 41,
   "id": "6f935150",
   "metadata": {},
   "outputs": [
    {
     "data": {
      "text/plain": [
       "{'a': (1, 2, 3), 'b': {1, 3, 4}, 'c': {'a': 'b'}, 3: '3'}"
      ]
     },
     "execution_count": 41,
     "metadata": {},
     "output_type": "execute_result"
    }
   ],
   "source": [
    "my_dict"
   ]
  },
  {
   "cell_type": "code",
   "execution_count": 40,
   "id": "a20b45bb",
   "metadata": {},
   "outputs": [
    {
     "data": {
      "text/plain": [
       "{'a': (1, 2, 3), 'b': {1, 3, 4}, 'c': {'a': 'b'}, 3: '3'}"
      ]
     },
     "execution_count": 40,
     "metadata": {},
     "output_type": "execute_result"
    }
   ],
   "source": [
    "test"
   ]
  },
  {
   "cell_type": "code",
   "execution_count": 43,
   "id": "b6a0edbf",
   "metadata": {},
   "outputs": [
    {
     "data": {
      "text/plain": [
       "(139833743846272, 139833743846272)"
      ]
     },
     "execution_count": 43,
     "metadata": {},
     "output_type": "execute_result"
    }
   ],
   "source": [
    "id(my_dict), id(test)"
   ]
  },
  {
   "cell_type": "code",
   "execution_count": 44,
   "id": "30cefa54",
   "metadata": {},
   "outputs": [],
   "source": [
    "copy_dict  = my_dict.copy()"
   ]
  },
  {
   "cell_type": "code",
   "execution_count": 45,
   "id": "2eb903d0",
   "metadata": {},
   "outputs": [],
   "source": [
    "copy_dict[9]:'9'"
   ]
  },
  {
   "cell_type": "code",
   "execution_count": 46,
   "id": "2fa6b093",
   "metadata": {},
   "outputs": [
    {
     "data": {
      "text/plain": [
       "(139833743846272, 139833733905472)"
      ]
     },
     "execution_count": 46,
     "metadata": {},
     "output_type": "execute_result"
    }
   ],
   "source": [
    "id(my_dict), id(copy_dict)"
   ]
  },
  {
   "cell_type": "code",
   "execution_count": 47,
   "id": "3996f05c",
   "metadata": {},
   "outputs": [
    {
     "ename": "TypeError",
     "evalue": "pop expected at least 1 argument, got 0",
     "output_type": "error",
     "traceback": [
      "\u001b[0;31m---------------------------------------------------------------------------\u001b[0m",
      "\u001b[0;31mTypeError\u001b[0m                                 Traceback (most recent call last)",
      "\u001b[0;32m/tmp/ipykernel_274288/4190392900.py\u001b[0m in \u001b[0;36m<module>\u001b[0;34m\u001b[0m\n\u001b[0;32m----> 1\u001b[0;31m \u001b[0mmy_dict\u001b[0m\u001b[0;34m.\u001b[0m\u001b[0mpop\u001b[0m\u001b[0;34m(\u001b[0m\u001b[0;34m)\u001b[0m\u001b[0;34m\u001b[0m\u001b[0;34m\u001b[0m\u001b[0m\n\u001b[0m",
      "\u001b[0;31mTypeError\u001b[0m: pop expected at least 1 argument, got 0"
     ]
    }
   ],
   "source": [
    "my_dict.pop()"
   ]
  },
  {
   "cell_type": "code",
   "execution_count": 49,
   "id": "8b294cc0",
   "metadata": {},
   "outputs": [
    {
     "data": {
      "text/plain": [
       "(1, 2, 3)"
      ]
     },
     "execution_count": 49,
     "metadata": {},
     "output_type": "execute_result"
    }
   ],
   "source": [
    "my_dict.pop('a')"
   ]
  },
  {
   "cell_type": "code",
   "execution_count": 55,
   "id": "7dfda68e",
   "metadata": {},
   "outputs": [],
   "source": [
    "extra = my_dict.fromkeys([1,2,3], ['a', 'b', 'c', 'd'])"
   ]
  },
  {
   "cell_type": "code",
   "execution_count": 56,
   "id": "57b9472f",
   "metadata": {},
   "outputs": [
    {
     "data": {
      "text/plain": [
       "{1: ['a', 'b', 'c', 'd'], 2: ['a', 'b', 'c', 'd'], 3: ['a', 'b', 'c', 'd']}"
      ]
     },
     "execution_count": 56,
     "metadata": {},
     "output_type": "execute_result"
    }
   ],
   "source": [
    "extra "
   ]
  },
  {
   "cell_type": "code",
   "execution_count": 57,
   "id": "1d08320f",
   "metadata": {},
   "outputs": [],
   "source": [
    "my_dict.update(extra)"
   ]
  },
  {
   "cell_type": "code",
   "execution_count": 58,
   "id": "08795413",
   "metadata": {},
   "outputs": [
    {
     "data": {
      "text/plain": [
       "{'b': {1, 3, 4},\n",
       " 'c': {'a': 'b'},\n",
       " 1: ['a', 'b', 'c', 'd'],\n",
       " 2: ['a', 'b', 'c', 'd'],\n",
       " 3: ['a', 'b', 'c', 'd']}"
      ]
     },
     "execution_count": 58,
     "metadata": {},
     "output_type": "execute_result"
    }
   ],
   "source": [
    "my_dict"
   ]
  },
  {
   "cell_type": "code",
   "execution_count": 59,
   "id": "db8c69b6",
   "metadata": {},
   "outputs": [
    {
     "data": {
      "text/plain": [
       "{1: ['a', 'b', 'c', 'd'], 2: ['a', 'b', 'c', 'd'], 3: ['a', 'b', 'c', 'd']}"
      ]
     },
     "execution_count": 59,
     "metadata": {},
     "output_type": "execute_result"
    }
   ],
   "source": [
    "extra"
   ]
  },
  {
   "cell_type": "code",
   "execution_count": 60,
   "id": "65816e18",
   "metadata": {},
   "outputs": [
    {
     "data": {
      "text/plain": [
       "{'a': 'b'}"
      ]
     },
     "execution_count": 60,
     "metadata": {},
     "output_type": "execute_result"
    }
   ],
   "source": [
    "my_dict.get('c')"
   ]
  },
  {
   "cell_type": "code",
   "execution_count": 62,
   "id": "0a773984",
   "metadata": {},
   "outputs": [
    {
     "name": "stdout",
     "output_type": "stream",
     "text": [
      "None\n"
     ]
    }
   ],
   "source": [
    "print(my_dict.get('r'))"
   ]
  },
  {
   "cell_type": "code",
   "execution_count": 63,
   "id": "4698369d",
   "metadata": {},
   "outputs": [
    {
     "ename": "KeyError",
     "evalue": "'r'",
     "output_type": "error",
     "traceback": [
      "\u001b[0;31m---------------------------------------------------------------------------\u001b[0m",
      "\u001b[0;31mKeyError\u001b[0m                                  Traceback (most recent call last)",
      "\u001b[0;32m/tmp/ipykernel_274288/459631274.py\u001b[0m in \u001b[0;36m<module>\u001b[0;34m\u001b[0m\n\u001b[0;32m----> 1\u001b[0;31m \u001b[0mmy_dict\u001b[0m\u001b[0;34m[\u001b[0m\u001b[0;34m'r'\u001b[0m\u001b[0;34m]\u001b[0m\u001b[0;34m\u001b[0m\u001b[0;34m\u001b[0m\u001b[0m\n\u001b[0m",
      "\u001b[0;31mKeyError\u001b[0m: 'r'"
     ]
    }
   ],
   "source": [
    "my_dict['r']"
   ]
  },
  {
   "cell_type": "code",
   "execution_count": 64,
   "id": "2d48f160",
   "metadata": {},
   "outputs": [
    {
     "data": {
      "text/plain": [
       "{'a': 'b'}"
      ]
     },
     "execution_count": 64,
     "metadata": {},
     "output_type": "execute_result"
    }
   ],
   "source": [
    "my_dict['c']"
   ]
  },
  {
   "cell_type": "markdown",
   "id": "a97ea782",
   "metadata": {},
   "source": [
    "    Dictionary comprehension\n",
    "    "
   ]
  },
  {
   "cell_type": "code",
   "execution_count": 74,
   "id": "5049b87e",
   "metadata": {},
   "outputs": [
    {
     "data": {
      "text/plain": [
       "{0: 0,\n",
       " 1: 1,\n",
       " 2: 32,\n",
       " 3: 243,\n",
       " 4: 1024,\n",
       " 5: 3125,\n",
       " 6: 7776,\n",
       " 7: 16807,\n",
       " 8: 32768,\n",
       " 9: 59049}"
      ]
     },
     "execution_count": 74,
     "metadata": {},
     "output_type": "execute_result"
    }
   ],
   "source": [
    "{i: i**5 for i in range(10)}"
   ]
  },
  {
   "cell_type": "code",
   "execution_count": 75,
   "id": "2eebf2da",
   "metadata": {},
   "outputs": [
    {
     "data": {
      "text/plain": [
       "{1: 0.0,\n",
       " 2: 0.3010299956639812,\n",
       " 3: 0.47712125471966244,\n",
       " 4: 0.6020599913279624,\n",
       " 5: 0.6989700043360189,\n",
       " 6: 0.7781512503836436,\n",
       " 7: 0.8450980400142568,\n",
       " 8: 0.9030899869919435,\n",
       " 9: 0.9542425094393249,\n",
       " 10: 1.0}"
      ]
     },
     "execution_count": 75,
     "metadata": {},
     "output_type": "execute_result"
    }
   ],
   "source": [
    "import math\n",
    "{x: math.log10(x) for x in range(1,11)}"
   ]
  },
  {
   "cell_type": "code",
   "execution_count": 79,
   "id": "228846e7",
   "metadata": {},
   "outputs": [],
   "source": [
    "check = {'k'+str(x): 'v'+str(x) for x in range(1,11)}"
   ]
  },
  {
   "cell_type": "code",
   "execution_count": 80,
   "id": "900713dc",
   "metadata": {},
   "outputs": [
    {
     "data": {
      "text/plain": [
       "{'k1': 'v1',\n",
       " 'k2': 'v2',\n",
       " 'k3': 'v3',\n",
       " 'k4': 'v4',\n",
       " 'k5': 'v5',\n",
       " 'k6': 'v6',\n",
       " 'k7': 'v7',\n",
       " 'k8': 'v8',\n",
       " 'k9': 'v9',\n",
       " 'k10': 'v10'}"
      ]
     },
     "execution_count": 80,
     "metadata": {},
     "output_type": "execute_result"
    }
   ],
   "source": [
    "check"
   ]
  },
  {
   "cell_type": "code",
   "execution_count": 82,
   "id": "27824ac5",
   "metadata": {},
   "outputs": [],
   "source": [
    "inverse_check = {v:k for k,v in check.items()}"
   ]
  },
  {
   "cell_type": "code",
   "execution_count": 83,
   "id": "172ad608",
   "metadata": {},
   "outputs": [
    {
     "data": {
      "text/plain": [
       "{'v1': 'k1',\n",
       " 'v2': 'k2',\n",
       " 'v3': 'k3',\n",
       " 'v4': 'k4',\n",
       " 'v5': 'k5',\n",
       " 'v6': 'k6',\n",
       " 'v7': 'k7',\n",
       " 'v8': 'k8',\n",
       " 'v9': 'k9',\n",
       " 'v10': 'k10'}"
      ]
     },
     "execution_count": 83,
     "metadata": {},
     "output_type": "execute_result"
    }
   ],
   "source": [
    "inverse_check"
   ]
  },
  {
   "cell_type": "code",
   "execution_count": null,
   "id": "fba67fc8",
   "metadata": {},
   "outputs": [],
   "source": []
  }
 ],
 "metadata": {
  "kernelspec": {
   "display_name": "Python 3 (ipykernel)",
   "language": "python",
   "name": "python3"
  },
  "language_info": {
   "codemirror_mode": {
    "name": "ipython",
    "version": 3
   },
   "file_extension": ".py",
   "mimetype": "text/x-python",
   "name": "python",
   "nbconvert_exporter": "python",
   "pygments_lexer": "ipython3",
   "version": "3.9.13"
  }
 },
 "nbformat": 4,
 "nbformat_minor": 5
}
