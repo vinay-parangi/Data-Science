{
 "cells": [
  {
   "cell_type": "markdown",
   "id": "e68df349-cb8f-42bd-becf-c200fef3692d",
   "metadata": {},
   "source": [
    "## Numbers in python "
   ]
  },
  {
   "cell_type": "code",
   "execution_count": 2,
   "id": "713298bc-ed88-48c2-ac14-188c39a869f4",
   "metadata": {},
   "outputs": [
    {
     "data": {
      "text/plain": [
       "4"
      ]
     },
     "execution_count": 2,
     "metadata": {},
     "output_type": "execute_result"
    }
   ],
   "source": [
    "1+3\n"
   ]
  },
  {
   "cell_type": "code",
   "execution_count": 7,
   "id": "41196b6d-fe71-4320-b255-af35ede515b7",
   "metadata": {},
   "outputs": [
    {
     "name": "stdout",
     "output_type": "stream",
     "text": [
      "4,x\n"
     ]
    }
   ],
   "source": [
    "print(1+3, end=',')\n",
    "print('x')"
   ]
  },
  {
   "cell_type": "code",
   "execution_count": 3,
   "id": "71625b59-1ad4-440c-a770-e91bf97018e7",
   "metadata": {},
   "outputs": [
    {
     "name": "stdout",
     "output_type": "stream",
     "text": [
      "My age is 25 and I have completed: my degree with BE with the name of vinay\n"
     ]
    }
   ],
   "source": [
    "name = \"vinay\"\n",
    "age = 25\n",
    "degree = 'BE'\n",
    "\n",
    "print(f'My age is {age} and I have completed: my degree with {degree} with the name of {name}')"
   ]
  },
  {
   "cell_type": "markdown",
   "id": "f28d237d-ad1c-46db-94fc-92be7c1b06fd",
   "metadata": {},
   "source": [
    "## Proble statement\n",
    "### you are in a mall you get 30% dicount on any product which is geater than 1000 rs u get 20% dicount "
   ]
  },
  {
   "cell_type": "code",
   "execution_count": 8,
   "id": "2d3b2109-5680-4d37-91ff-a76505b08aee",
   "metadata": {},
   "outputs": [
    {
     "name": "stdin",
     "output_type": "stream",
     "text": [
      "Please enter the product price 103\n"
     ]
    },
    {
     "name": "stdout",
     "output_type": "stream",
     "text": [
      "product price after diccount is 72.1\n"
     ]
    }
   ],
   "source": [
    "product_price = int(input('Please enter the product price'))\n",
    "if product_price > 3000:\n",
    "    discount_price = product_price-(product_price*0.2)\n",
    "elif product_price >= 2000 and product_price<=3000:\n",
    "    discount_price = product_price-(product_price*0.2)\n",
    "else:\n",
    "    discount_price = product_price-(product_price*0.2)\n",
    "print(f'product price after diccount is {discount_price}')\n",
    "    "
   ]
  },
  {
   "cell_type": "code",
   "execution_count": null,
   "id": "24ab1417-4de9-4d08-a513-80f3b71c274c",
   "metadata": {},
   "outputs": [],
   "source": []
  }
 ],
 "metadata": {
  "kernelspec": {
   "display_name": "Python 3 (ipykernel)",
   "language": "python",
   "name": "python3"
  },
  "language_info": {
   "codemirror_mode": {
    "name": "ipython",
    "version": 3
   },
   "file_extension": ".py",
   "mimetype": "text/x-python",
   "name": "python",
   "nbconvert_exporter": "python",
   "pygments_lexer": "ipython3",
   "version": "3.10.8"
  }
 },
 "nbformat": 4,
 "nbformat_minor": 5
}
