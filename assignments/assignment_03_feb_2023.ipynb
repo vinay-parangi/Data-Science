{
 "cells": [
  {
   "cell_type": "markdown",
   "id": "d10a3865",
   "metadata": {},
   "source": [
    "## Q1. Which keyword is used to create a function? Create a function to return a list of odd numbers in the range of 1 to 25."
   ]
  },
  {
   "cell_type": "markdown",
   "id": "040478f0",
   "metadata": {},
   "source": [
    "def keyword is used to create a function"
   ]
  },
  {
   "cell_type": "code",
   "execution_count": 2,
   "id": "8ba88884",
   "metadata": {},
   "outputs": [
    {
     "name": "stdout",
     "output_type": "stream",
     "text": [
      "[1, 3, 5, 7, 9, 11, 13, 15, 17, 19, 21, 23]\n"
     ]
    }
   ],
   "source": [
    "def odd_ls_fun(n):\n",
    "    return [x for x in range(1,n) if x%2==1]\n",
    "odd_num = odd_ls_fun(25)\n",
    "print(odd_num)\n"
   ]
  },
  {
   "cell_type": "markdown",
   "id": "4a367936",
   "metadata": {},
   "source": [
    "## Q2. Why \\*args and \\*\\*kwargs is used in some functions? Create a function each for *args and **kwargs to demonstrate their use."
   ]
  },
  {
   "cell_type": "markdown",
   "id": "c2ad9d59",
   "metadata": {},
   "source": [
    "\\*args and \\**kwargs is used in function when we do not know the number of arguments and parameter or when we want to take n number of arguments."
   ]
  },
  {
   "cell_type": "code",
   "execution_count": 10,
   "id": "32c755d8",
   "metadata": {},
   "outputs": [
    {
     "data": {
      "text/plain": [
       "(1, 2, 3)"
      ]
     },
     "execution_count": 10,
     "metadata": {},
     "output_type": "execute_result"
    }
   ],
   "source": [
    "def args_fun(*args):\n",
    "    return(args)\n",
    "args_fun(1,2,3)\n",
    "#stores data in tuple"
   ]
  },
  {
   "cell_type": "code",
   "execution_count": 11,
   "id": "aea4a937",
   "metadata": {},
   "outputs": [
    {
     "data": {
      "text/plain": [
       "{'a': 1, 'd': 3, 'c': 4}"
      ]
     },
     "execution_count": 11,
     "metadata": {},
     "output_type": "execute_result"
    }
   ],
   "source": [
    "def kwargs_fun(**kwargs):\n",
    "    return(kwargs)\n",
    "kwargs_fun(a=1,d=3,c=4)\n",
    "#stores data in dict .i.e. Key Value pairs"
   ]
  },
  {
   "cell_type": "markdown",
   "id": "a1537e46",
   "metadata": {},
   "source": [
    "## Q3. What is an iterator in python? Name the method used to initialise the iterator object and the method used for iteration. Use these methods to print the first five elements of the given list [2, 4, 6, 8, 10, 12, 14, 16,18, 20]."
   ]
  },
  {
   "cell_type": "markdown",
   "id": "173697c9",
   "metadata": {},
   "source": [
    "In Python, an iterator is an object that implements the iterator protocol, which consists of two methods: iter and next. The iter method returns the iterator object and the next method returns the next value from the iterator. An iterator is used to represent a stream of data that can be iterated upon, like a list, tuple, or dictionary.\n",
    "\n",
    "To create an iterator, you can pass a list, tuple, or other iterable object to the iter() function, which returns an iterator object. The next() function can be used to retrieve the next value from the iterator. When there are no more items to return, the StopIteration exception is raised"
   ]
  },
  {
   "cell_type": "code",
   "execution_count": 15,
   "id": "dd8ea6da",
   "metadata": {},
   "outputs": [
    {
     "name": "stdout",
     "output_type": "stream",
     "text": [
      "<list_iterator object at 0x7f5f2d95b400>\n",
      "i is : 0 next is : 2\n",
      "i is : 1 next is : 4\n",
      "i is : 2 next is : 6\n",
      "i is : 3 next is : 8\n",
      "i is : 4 next is : 10\n"
     ]
    }
   ],
   "source": [
    "numbers = [2, 4, 6, 8, 10, 12, 14, 16, 18, 20]\n",
    "\n",
    "iterator = iter(numbers)\n",
    "print(iterator)\n",
    "\n",
    "for i in range(5):\n",
    "    print(\"i is :\",i, \"next is :\",next(iterator))\n"
   ]
  },
  {
   "cell_type": "markdown",
   "id": "9ee22a15",
   "metadata": {},
   "source": [
    "## Q4. What is a generator function in python? Why yield keyword is used? Give an example of a generator function."
   ]
  },
  {
   "cell_type": "markdown",
   "id": "38f5452b",
   "metadata": {},
   "source": [
    "a generator function is a special kind of function that uses the yield keyword to produce a sequence of values, one at a time, when iterated over.\n"
   ]
  },
  {
   "cell_type": "code",
   "execution_count": 27,
   "id": "b3411f26",
   "metadata": {},
   "outputs": [
    {
     "name": "stdout",
     "output_type": "stream",
     "text": [
      "0\n",
      "1\n",
      "1\n",
      "2\n",
      "3\n",
      "5\n",
      "8\n",
      "13\n",
      "21\n",
      "34\n",
      "55\n",
      "89\n",
      "144\n",
      "233\n",
      "377\n",
      "610\n",
      "987\n",
      "1597\n",
      "2584\n",
      "4181\n"
     ]
    }
   ],
   "source": [
    "def febinocci(n):\n",
    "    a,b=0,1\n",
    "    for i in range(n):\n",
    "        # print(a)\n",
    "        yield(a)\n",
    "        a,b=b,a+b\n",
    "gen = febinocci(20)\n",
    "for x in gen:\n",
    "    print(x)"
   ]
  },
  {
   "cell_type": "markdown",
   "id": "80923d0a",
   "metadata": {},
   "source": [
    "## Q5. Create a generator function for prime numbers less than 1000. Use the next() method to print the first 20 prime numbers."
   ]
  },
  {
   "cell_type": "code",
   "execution_count": 44,
   "id": "beebf4e9",
   "metadata": {},
   "outputs": [
    {
     "name": "stdout",
     "output_type": "stream",
     "text": [
      "2\n",
      "3\n",
      "5\n",
      "7\n",
      "11\n",
      "13\n",
      "17\n",
      "19\n",
      "23\n",
      "29\n",
      "31\n",
      "37\n",
      "41\n",
      "43\n",
      "47\n",
      "53\n",
      "59\n",
      "61\n",
      "67\n",
      "71\n"
     ]
    }
   ],
   "source": [
    "def gen_test():\n",
    "    for x in range(2,1000):\n",
    "        for y in range(2, x):\n",
    "            if x%y==0:\n",
    "                break\n",
    "        else:\n",
    "            yield x\n",
    "        \n",
    "\n",
    "prime_gen = gen_test()\n",
    "# prime_gen\n",
    "for i in range(20):\n",
    "    print(next(prime_gen))"
   ]
  },
  {
   "cell_type": "code",
   "execution_count": null,
   "id": "096d8c19",
   "metadata": {},
   "outputs": [],
   "source": []
  },
  {
   "cell_type": "code",
   "execution_count": null,
   "id": "7c3e76ee",
   "metadata": {},
   "outputs": [],
   "source": []
  }
 ],
 "metadata": {
  "kernelspec": {
   "display_name": "Python 3",
   "language": "python",
   "name": "python3"
  },
  "language_info": {
   "codemirror_mode": {
    "name": "ipython",
    "version": 3
   },
   "file_extension": ".py",
   "mimetype": "text/x-python",
   "name": "python",
   "nbconvert_exporter": "python",
   "pygments_lexer": "ipython3",
   "version": "3.8.8"
  }
 },
 "nbformat": 4,
 "nbformat_minor": 5
}
