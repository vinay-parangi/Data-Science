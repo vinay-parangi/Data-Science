{
 "cells": [
  {
   "cell_type": "markdown",
   "id": "147f7831-3c7e-4c28-a58b-06f7201ff6de",
   "metadata": {},
   "source": [
    "## 1) characteristics of the tuples? is tuple immutable"
   ]
  },
  {
   "cell_type": "markdown",
   "id": "88003141-69c4-4cfb-8700-36a64d11a702",
   "metadata": {},
   "source": [
    "A tuple is a data structure in programming that is an ordered and immutable collection of elements. Some of its key characteristics include:\n",
    "\n",
    "Immutable: Tuples cannot be modified once created, making them suitable for storing values that should not change.\n",
    "\n",
    "Ordered: The elements in a tuple have a specific order and their position is important.\n",
    "\n",
    "Indexed: Elements in a tuple can be accessed by their index number, starting from 0.\n",
    "\n",
    "Fixed Size: The size of a tuple is determined when it is created and cannot be changed.\n",
    "\n",
    "Hashable: Tuples can be hashed, making them usable as keys in dictionaries.\n",
    "\n",
    "Iterable: Tuples can be iterated over, making it easy to access each of its elements.\n",
    "\n",
    "Lightweight: Tuples are lighter in terms of memory usage compared to other data structures like lists and dictionaries.\n",
    "\n",
    "Heterogeneous: Tuples can contain elements of different data types.\n",
    "\n",
    "\n",
    "\n",
    "Yes, Typles are immutable, Tuples cannot be modified once created, making them suitable for storing values that should not change."
   ]
  },
  {
   "cell_type": "markdown",
   "id": "d43dc7ec-496a-48af-8f16-e33c803d5720",
   "metadata": {},
   "source": [
    "## 2) methods in tuples "
   ]
  },
  {
   "cell_type": "markdown",
   "id": "d0361b34-9a0b-4ecc-847a-30fb4fb5c491",
   "metadata": {},
   "source": [
    "count(): Returns the number of times a specific element appears in a tuple.\n",
    "\n",
    "index(): Returns the index of the first occurrence of a specific element in a tuple"
   ]
  },
  {
   "cell_type": "markdown",
   "id": "7459f1ff-49db-4b02-a6c7-240a53697453",
   "metadata": {},
   "source": [
    "## 3) Which collection datatypes in python do not allow duplicate items? Write a code using a set to remove duplicates from the given list.\n",
    "## List = [1, 1, 1, 2, 1, 3, 1, 4, 2, 1, 2, 2, 2, 3, 2, 4, 3, 1, 3, 2, 3, 3, 3, 4, 4, 1, 4, 2, 4, 3, 4, 4]"
   ]
  },
  {
   "cell_type": "markdown",
   "id": "430e13e4-2248-458e-ae50-d3d209e5e676",
   "metadata": {},
   "source": [
    "Sets do not allow duplicate items"
   ]
  },
  {
   "cell_type": "code",
   "execution_count": 1,
   "id": "5bad101a-8a21-4739-a36c-a374e4a2fb4b",
   "metadata": {},
   "outputs": [
    {
     "name": "stdout",
     "output_type": "stream",
     "text": [
      "{1, 2, 3, 4, 5, 6}\n"
     ]
    }
   ],
   "source": [
    "List=[1,1,2,3,4,5,6,2,3,4,5,1,2,3,5,4,4,3,2,1,1,2]\n",
    "print(set(List))"
   ]
  },
  {
   "cell_type": "markdown",
   "id": "5d4c7f7f-196e-43fe-9a8f-a8bc5574993d",
   "metadata": {},
   "source": [
    "## 4) update () and union () method in sets with example"
   ]
  },
  {
   "cell_type": "markdown",
   "id": "2f1ed4a8-0a4a-4801-916b-c8c81b7ec829",
   "metadata": {},
   "source": [
    "update(): set.update() adds all missing elements to the set on which it is called."
   ]
  },
  {
   "cell_type": "code",
   "execution_count": 3,
   "id": "334e0e50-0560-4dca-bacd-3869ff01d8a1",
   "metadata": {},
   "outputs": [
    {
     "name": "stdout",
     "output_type": "stream",
     "text": [
      "{1, 2, 3, 4, 5, 6}\n"
     ]
    }
   ],
   "source": [
    "s = {1, 2, 3}\n",
    "s.update({3, 4, 5, 6})\n",
    "print(s)"
   ]
  },
  {
   "cell_type": "markdown",
   "id": "3e671ca7-93d5-40b4-9c42-b8fe4cbcb24a",
   "metadata": {},
   "source": [
    "union(): set.union() creates a new set."
   ]
  },
  {
   "cell_type": "code",
   "execution_count": 3,
   "id": "5be30f22-c30b-4ae4-91b1-b47e10087098",
   "metadata": {},
   "outputs": [
    {
     "name": "stdout",
     "output_type": "stream",
     "text": [
      "{1, 2, 3, 4, 5}\n"
     ]
    }
   ],
   "source": [
    "s1 = {1, 2, 3}\n",
    "s2 = {3, 4, 5}\n",
    "s3 = s1.union(s2)\n",
    "print(s3)"
   ]
  },
  {
   "cell_type": "markdown",
   "id": "b0e91582-752d-4863-9947-2e323209d0b9",
   "metadata": {},
   "source": [
    "## 5) What is a dictionary? Give an example. Also, state whether a dictionary is ordered or unordered."
   ]
  },
  {
   "cell_type": "markdown",
   "id": "0fbed50d-f3db-4f60-95a8-3de85e17aaf1",
   "metadata": {},
   "source": [
    "A dictionary in Python is an unordered collection of key-value pairs.\n",
    "Dictionaries are mutable, which means that you can add, modify, and remove elements from a dictionary."
   ]
  },
  {
   "cell_type": "code",
   "execution_count": 5,
   "id": "4330cf98-49d6-458e-bdbe-83a87d7e4eb8",
   "metadata": {},
   "outputs": [
    {
     "name": "stdout",
     "output_type": "stream",
     "text": [
      "{'name': 'John Doe', 'age': 32, 'city': 'New York'}\n"
     ]
    }
   ],
   "source": [
    "d = {'name': 'John Doe', 'age': 32, 'city': 'New York'}\n",
    "print(d)"
   ]
  },
  {
   "cell_type": "markdown",
   "id": "06a4c560-6ac2-4d4c-96bb-b3aca2f5839a",
   "metadata": {},
   "source": [
    "## 6) Can we create a nested dictionary? If so, please give an example by creating a simple one-level nested dictionary."
   ]
  },
  {
   "cell_type": "markdown",
   "id": "ef2908cd-cd75-4203-8d8a-e0d4e0ffbe34",
   "metadata": {},
   "source": [
    "A nested dictionary in Python is a dictionary that contains one or more dictionaries as values. This allows you to create more complex and hierarchical data structures."
   ]
  },
  {
   "cell_type": "code",
   "execution_count": 6,
   "id": "5a4f31d5-ce7c-4778-a972-9925a8bd4cf5",
   "metadata": {},
   "outputs": [
    {
     "name": "stdout",
     "output_type": "stream",
     "text": [
      "{'person1': {'name': 'John Doe', 'age': 32, 'city': 'New York'}, 'person2': {'name': 'Jane Doe', 'age': 28, 'city': 'Los Angeles'}}\n"
     ]
    }
   ],
   "source": [
    "nested_dict = {\n",
    "'person1': {'name': 'John Doe', 'age': 32, 'city': 'New York'},\n",
    "'person2': {'name': 'Jane Doe', 'age': 28, 'city': 'Los Angeles'}\n",
    "}\n",
    "print(nested_dict)"
   ]
  },
  {
   "cell_type": "markdown",
   "id": "8e1d4be9-5ea2-475a-8b66-8dc1145be7cc",
   "metadata": {},
   "source": [
    "## 7) Using setdefault() method, create key named topics in the given dictionary and also add the value of the key as this list ['Python', 'Machine Learning’, 'Deep Learning']"
   ]
  },
  {
   "cell_type": "markdown",
   "id": "2fa6bdd9-80ca-4c63-98d7-8d0a82b46538",
   "metadata": {},
   "source": [
    "The setdefault() method in a dictionary is used to set a default value for a key if the key does not already exist in the dictionary. If the key already exists, it returns the current value for the key."
   ]
  },
  {
   "cell_type": "code",
   "execution_count": 14,
   "id": "34d71e25-5b4b-4491-8d6c-4226f0660a03",
   "metadata": {},
   "outputs": [
    {
     "name": "stdout",
     "output_type": "stream",
     "text": [
      "{'language': 'Python', 'course': 'Data Science Masters', 'topics': ['Python', 'Machine Learning', 'Deep Learning']}\n"
     ]
    }
   ],
   "source": [
    "d = {'language' : 'Python', 'course': 'Data Science Masters'}\n",
    "\n",
    "d.setdefault('topics', ['Python', 'Machine Learning', 'Deep Learning'])\n",
    "print(d)\n"
   ]
  },
  {
   "cell_type": "markdown",
   "id": "e4626e4d-9637-4c4b-9db3-e70e4ca756e2",
   "metadata": {},
   "source": [
    "## 8) What are the three view objects in dictionaries? Use the three in-built methods in python to display these three view objects for the given dictionary."
   ]
  },
  {
   "cell_type": "markdown",
   "id": "863a0061-f481-4ade-9a0a-e649c71546ac",
   "metadata": {},
   "source": [
    "The .keys() method returns a view object that displays a dict_keys of all the keys in the dictionary.\n",
    "\n",
    "The .values() method returns a view object that displays a dict_values of all the values in the dictionary.\n",
    "\n",
    "The .items() method returns a view object that displays a dict_items of all the list of tuples of keys,values in the dictionary.\n"
   ]
  },
  {
   "cell_type": "code",
   "execution_count": 23,
   "id": "9909f507-7f68-444a-a68d-62c37c1918e6",
   "metadata": {},
   "outputs": [
    {
     "name": "stdout",
     "output_type": "stream",
     "text": [
      "dict_keys(['Sport', ' Teams'])\n",
      "dict_values(['Cricket', ['India', 'Australia', 'England', 'South Africa', 'Sri Lanka', ' N ew Z ealand']])\n",
      "dict_items([('Sport', 'Cricket'), (' Teams', ['India', 'Australia', 'England', 'South Africa', 'Sri Lanka', ' N ew Z ealand'])])\n"
     ]
    }
   ],
   "source": [
    "dict1 = {'Sport': 'Cricket' , ' Teams': ['India', 'Australia', 'England', 'South Africa', 'Sri Lanka', ' N ew Z ealand']}\n",
    "print(dict1.keys())\n",
    "print(dict1.values())\n",
    "print(dict1.items())"
   ]
  }
 ],
 "metadata": {
  "kernelspec": {
   "display_name": "Python 3 (ipykernel)",
   "language": "python",
   "name": "python3"
  },
  "language_info": {
   "codemirror_mode": {
    "name": "ipython",
    "version": 3
   },
   "file_extension": ".py",
   "mimetype": "text/x-python",
   "name": "python",
   "nbconvert_exporter": "python",
   "pygments_lexer": "ipython3",
   "version": "3.9.13"
  }
 },
 "nbformat": 4,
 "nbformat_minor": 5
}
